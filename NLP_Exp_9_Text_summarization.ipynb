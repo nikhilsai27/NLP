{
  "nbformat": 4,
  "nbformat_minor": 0,
  "metadata": {
    "colab": {
      "provenance": [],
      "authorship_tag": "ABX9TyNhmOZD3xTcJq8S1Lzv2FzR",
      "include_colab_link": true
    },
    "kernelspec": {
      "name": "python3",
      "display_name": "Python 3"
    },
    "language_info": {
      "name": "python"
    }
  },
  "cells": [
    {
      "cell_type": "markdown",
      "metadata": {
        "id": "view-in-github",
        "colab_type": "text"
      },
      "source": [
        "<a href=\"https://colab.research.google.com/github/nikhilsai27/NLP/blob/main/NLP_Exp_9_Text_summarization.ipynb\" target=\"_parent\"><img src=\"https://colab.research.google.com/assets/colab-badge.svg\" alt=\"Open In Colab\"/></a>"
      ]
    },
    {
      "cell_type": "code",
      "execution_count": 40,
      "metadata": {
        "id": "fF-OGWH0MJ5c"
      },
      "outputs": [],
      "source": [
        "# !pip install -U spacy\n",
        "# !python -m spacy download en_core_web_sm\n",
        "import spacy\n",
        "from spacy.lang.en.stop_words import STOP_WORDS\n",
        "from string import punctuation\n"
      ]
    },
    {
      "cell_type": "code",
      "source": [
        "# Define the text to summarize\n",
        "text = \"\"\"\n",
        "In the bustling city of Paris, renowned pianist Marie Laurent (50s) is gearing up for her highly anticipated performance at the prestigious Palais Garnier. But behind her virtuosic talent lies a past marked by tragedy.\n",
        "\n",
        "Years ago, a tragic car accident claimed the life of Marie's younger sister, Claire, a gifted pianist. Marie, the sole survivor, threw herself into her music, finding solace but also carrying the burden of guilt and regret.\n",
        "\n",
        "Enter Emily (18), Marie's estranged daughter and a talented pianist in her own right. Emily harbors resentment toward her mother's perfectionism and the constant comparisons to Claire. Their strained relationship threatens to overshadow both of their musical aspirations.\n",
        "\n",
        "As the pressure mounts for the Palais Garnier performance, a series of events forces Marie and Emily to confront their painful past. A mysterious break-in at Marie's apartment leaves her beloved grand piano vandalized, stirring up memories of the accident. A surprise visit from an old friend reveals long-held secrets about the night of the crash. Emily receives an invitation to a prestigious music conservatory, an opportunity that could finally allow her to forge her own path.\n",
        "\n",
        "Marie, facing her mortality and the consequences of her choices, embarks on a journey of reconciliation. She seeks to bridge the gap between herself and Emily, not just as a musician but also as a mother seeking forgiveness. Together, they delve into their shared history, uncovering new truths about the accident and Claire's life.\n",
        "\n",
        "The climax arrives with the Palais Garnier performance drawing near. Emily grapples with the weight of expectation, her own desires, and the complex emotions she harbors for her mother. Marie, vulnerable and raw, must confront her deepest fears and the ghosts of her past.\n",
        "\n",
        "Will they be able to mend their broken bond and find solace in their shared passion for music? Will Emily choose her own path or succumb to the pressure of living up to her mother and aunt's legacy? The climactic performance at Palais Garnier becomes a poignant culmination of their journey, a testament to the power of music to heal and the enduring love between a mother and daughter.\n",
        "\"\"\"\n",
        "\n"
      ],
      "metadata": {
        "id": "1QIo14mPMxWt"
      },
      "execution_count": 41,
      "outputs": []
    },
    {
      "cell_type": "code",
      "source": [
        "stopwords = list(STOP_WORDS)\n",
        "nlp = spacy.load(\"en_core_web_sm\")\n",
        "doc = nlp(text)"
      ],
      "metadata": {
        "id": "sY5CfOVdPgIv"
      },
      "execution_count": 42,
      "outputs": []
    },
    {
      "cell_type": "code",
      "source": [
        "tokens = [token.text for token in doc]\n",
        "print(tokens)\n",
        "punctuation = punctuation + '\\n'\n",
        "print(punctuation)\n",
        "word_frequencies = {}\n",
        "for word in doc:\n",
        "  if word.text.lower() not in stopwords:\n",
        "    if word.text.lower() not in punctuation:\n",
        "      if word.text not in word_frequencies.keys():\n",
        "        word_frequencies[word.text] = 1\n",
        "      else:\n",
        "        word_frequencies[word.text] += 1\n",
        "print(word_frequencies)"
      ],
      "metadata": {
        "colab": {
          "base_uri": "https://localhost:8080/"
        },
        "id": "t5L-8WR_PilX",
        "outputId": "e3dc713f-4cff-4d9c-8e44-555c9b2edd87"
      },
      "execution_count": 43,
      "outputs": [
        {
          "output_type": "stream",
          "name": "stdout",
          "text": [
            "['\\n', 'In', 'the', 'bustling', 'city', 'of', 'Paris', ',', 'renowned', 'pianist', 'Marie', 'Laurent', '(', '50s', ')', 'is', 'gearing', 'up', 'for', 'her', 'highly', 'anticipated', 'performance', 'at', 'the', 'prestigious', 'Palais', 'Garnier', '.', 'But', 'behind', 'her', 'virtuosic', 'talent', 'lies', 'a', 'past', 'marked', 'by', 'tragedy', '.', '\\n\\n', 'Years', 'ago', ',', 'a', 'tragic', 'car', 'accident', 'claimed', 'the', 'life', 'of', 'Marie', \"'s\", 'younger', 'sister', ',', 'Claire', ',', 'a', 'gifted', 'pianist', '.', 'Marie', ',', 'the', 'sole', 'survivor', ',', 'threw', 'herself', 'into', 'her', 'music', ',', 'finding', 'solace', 'but', 'also', 'carrying', 'the', 'burden', 'of', 'guilt', 'and', 'regret', '.', '\\n\\n', 'Enter', 'Emily', '(', '18', ')', ',', 'Marie', \"'s\", 'estranged', 'daughter', 'and', 'a', 'talented', 'pianist', 'in', 'her', 'own', 'right', '.', 'Emily', 'harbors', 'resentment', 'toward', 'her', 'mother', \"'s\", 'perfectionism', 'and', 'the', 'constant', 'comparisons', 'to', 'Claire', '.', 'Their', 'strained', 'relationship', 'threatens', 'to', 'overshadow', 'both', 'of', 'their', 'musical', 'aspirations', '.', '\\n\\n', 'As', 'the', 'pressure', 'mounts', 'for', 'the', 'Palais', 'Garnier', 'performance', ',', 'a', 'series', 'of', 'events', 'forces', 'Marie', 'and', 'Emily', 'to', 'confront', 'their', 'painful', 'past', '.', 'A', 'mysterious', 'break', '-', 'in', 'at', 'Marie', \"'s\", 'apartment', 'leaves', 'her', 'beloved', 'grand', 'piano', 'vandalized', ',', 'stirring', 'up', 'memories', 'of', 'the', 'accident', '.', 'A', 'surprise', 'visit', 'from', 'an', 'old', 'friend', 'reveals', 'long', '-', 'held', 'secrets', 'about', 'the', 'night', 'of', 'the', 'crash', '.', 'Emily', 'receives', 'an', 'invitation', 'to', 'a', 'prestigious', 'music', 'conservatory', ',', 'an', 'opportunity', 'that', 'could', 'finally', 'allow', 'her', 'to', 'forge', 'her', 'own', 'path', '.', '\\n\\n', 'Marie', ',', 'facing', 'her', 'mortality', 'and', 'the', 'consequences', 'of', 'her', 'choices', ',', 'embarks', 'on', 'a', 'journey', 'of', 'reconciliation', '.', 'She', 'seeks', 'to', 'bridge', 'the', 'gap', 'between', 'herself', 'and', 'Emily', ',', 'not', 'just', 'as', 'a', 'musician', 'but', 'also', 'as', 'a', 'mother', 'seeking', 'forgiveness', '.', 'Together', ',', 'they', 'delve', 'into', 'their', 'shared', 'history', ',', 'uncovering', 'new', 'truths', 'about', 'the', 'accident', 'and', 'Claire', \"'s\", 'life', '.', '\\n\\n', 'The', 'climax', 'arrives', 'with', 'the', 'Palais', 'Garnier', 'performance', 'drawing', 'near', '.', 'Emily', 'grapples', 'with', 'the', 'weight', 'of', 'expectation', ',', 'her', 'own', 'desires', ',', 'and', 'the', 'complex', 'emotions', 'she', 'harbors', 'for', 'her', 'mother', '.', 'Marie', ',', 'vulnerable', 'and', 'raw', ',', 'must', 'confront', 'her', 'deepest', 'fears', 'and', 'the', 'ghosts', 'of', 'her', 'past', '.', '\\n\\n', 'Will', 'they', 'be', 'able', 'to', 'mend', 'their', 'broken', 'bond', 'and', 'find', 'solace', 'in', 'their', 'shared', 'passion', 'for', 'music', '?', 'Will', 'Emily', 'choose', 'her', 'own', 'path', 'or', 'succumb', 'to', 'the', 'pressure', 'of', 'living', 'up', 'to', 'her', 'mother', 'and', 'aunt', \"'s\", 'legacy', '?', 'The', 'climactic', 'performance', 'at', 'Palais', 'Garnier', 'becomes', 'a', 'poignant', 'culmination', 'of', 'their', 'journey', ',', 'a', 'testament', 'to', 'the', 'power', 'of', 'music', 'to', 'heal', 'and', 'the', 'enduring', 'love', 'between', 'a', 'mother', 'and', 'daughter', '.', '\\n']\n",
            "!\"#$%&'()*+,-./:;<=>?@[\\]^_`{|}~\n",
            "\n",
            "{'bustling': 1, 'city': 1, 'Paris': 1, 'renowned': 1, 'pianist': 3, 'Marie': 8, 'Laurent': 1, '50s': 1, 'gearing': 1, 'highly': 1, 'anticipated': 1, 'performance': 4, 'prestigious': 2, 'Palais': 4, 'Garnier': 4, 'virtuosic': 1, 'talent': 1, 'lies': 1, 'past': 3, 'marked': 1, 'tragedy': 1, '\\n\\n': 6, 'Years': 1, 'ago': 1, 'tragic': 1, 'car': 1, 'accident': 3, 'claimed': 1, 'life': 2, 'younger': 1, 'sister': 1, 'Claire': 3, 'gifted': 1, 'sole': 1, 'survivor': 1, 'threw': 1, 'music': 4, 'finding': 1, 'solace': 2, 'carrying': 1, 'burden': 1, 'guilt': 1, 'regret': 1, 'Enter': 1, 'Emily': 7, '18': 1, 'estranged': 1, 'daughter': 2, 'talented': 1, 'right': 1, 'harbors': 2, 'resentment': 1, 'mother': 5, 'perfectionism': 1, 'constant': 1, 'comparisons': 1, 'strained': 1, 'relationship': 1, 'threatens': 1, 'overshadow': 1, 'musical': 1, 'aspirations': 1, 'pressure': 2, 'mounts': 1, 'series': 1, 'events': 1, 'forces': 1, 'confront': 2, 'painful': 1, 'mysterious': 1, 'break': 1, 'apartment': 1, 'leaves': 1, 'beloved': 1, 'grand': 1, 'piano': 1, 'vandalized': 1, 'stirring': 1, 'memories': 1, 'surprise': 1, 'visit': 1, 'old': 1, 'friend': 1, 'reveals': 1, 'long': 1, 'held': 1, 'secrets': 1, 'night': 1, 'crash': 1, 'receives': 1, 'invitation': 1, 'conservatory': 1, 'opportunity': 1, 'finally': 1, 'allow': 1, 'forge': 1, 'path': 2, 'facing': 1, 'mortality': 1, 'consequences': 1, 'choices': 1, 'embarks': 1, 'journey': 2, 'reconciliation': 1, 'seeks': 1, 'bridge': 1, 'gap': 1, 'musician': 1, 'seeking': 1, 'forgiveness': 1, 'delve': 1, 'shared': 2, 'history': 1, 'uncovering': 1, 'new': 1, 'truths': 1, 'climax': 1, 'arrives': 1, 'drawing': 1, 'near': 1, 'grapples': 1, 'weight': 1, 'expectation': 1, 'desires': 1, 'complex': 1, 'emotions': 1, 'vulnerable': 1, 'raw': 1, 'deepest': 1, 'fears': 1, 'ghosts': 1, 'able': 1, 'mend': 1, 'broken': 1, 'bond': 1, 'find': 1, 'passion': 1, 'choose': 1, 'succumb': 1, 'living': 1, 'aunt': 1, 'legacy': 1, 'climactic': 1, 'poignant': 1, 'culmination': 1, 'testament': 1, 'power': 1, 'heal': 1, 'enduring': 1, 'love': 1}\n"
          ]
        }
      ]
    },
    {
      "cell_type": "code",
      "source": [
        "max_frequency = max(word_frequencies.values())\n",
        "max_frequency\n",
        "for word in word_frequencies.keys():\n",
        "  word_frequencies[word] = word_frequencies[word]/max_frequency\n",
        "print(word_frequencies)\n",
        "sentence_tokens = [sent for sent in doc.sents]\n",
        "print(sentence_tokens)\n"
      ],
      "metadata": {
        "colab": {
          "base_uri": "https://localhost:8080/"
        },
        "id": "hhfvmvXiPk2b",
        "outputId": "5ce0e2aa-2686-4754-90cd-314e9e373071"
      },
      "execution_count": 44,
      "outputs": [
        {
          "output_type": "stream",
          "name": "stdout",
          "text": [
            "{'bustling': 0.125, 'city': 0.125, 'Paris': 0.125, 'renowned': 0.125, 'pianist': 0.375, 'Marie': 1.0, 'Laurent': 0.125, '50s': 0.125, 'gearing': 0.125, 'highly': 0.125, 'anticipated': 0.125, 'performance': 0.5, 'prestigious': 0.25, 'Palais': 0.5, 'Garnier': 0.5, 'virtuosic': 0.125, 'talent': 0.125, 'lies': 0.125, 'past': 0.375, 'marked': 0.125, 'tragedy': 0.125, '\\n\\n': 0.75, 'Years': 0.125, 'ago': 0.125, 'tragic': 0.125, 'car': 0.125, 'accident': 0.375, 'claimed': 0.125, 'life': 0.25, 'younger': 0.125, 'sister': 0.125, 'Claire': 0.375, 'gifted': 0.125, 'sole': 0.125, 'survivor': 0.125, 'threw': 0.125, 'music': 0.5, 'finding': 0.125, 'solace': 0.25, 'carrying': 0.125, 'burden': 0.125, 'guilt': 0.125, 'regret': 0.125, 'Enter': 0.125, 'Emily': 0.875, '18': 0.125, 'estranged': 0.125, 'daughter': 0.25, 'talented': 0.125, 'right': 0.125, 'harbors': 0.25, 'resentment': 0.125, 'mother': 0.625, 'perfectionism': 0.125, 'constant': 0.125, 'comparisons': 0.125, 'strained': 0.125, 'relationship': 0.125, 'threatens': 0.125, 'overshadow': 0.125, 'musical': 0.125, 'aspirations': 0.125, 'pressure': 0.25, 'mounts': 0.125, 'series': 0.125, 'events': 0.125, 'forces': 0.125, 'confront': 0.25, 'painful': 0.125, 'mysterious': 0.125, 'break': 0.125, 'apartment': 0.125, 'leaves': 0.125, 'beloved': 0.125, 'grand': 0.125, 'piano': 0.125, 'vandalized': 0.125, 'stirring': 0.125, 'memories': 0.125, 'surprise': 0.125, 'visit': 0.125, 'old': 0.125, 'friend': 0.125, 'reveals': 0.125, 'long': 0.125, 'held': 0.125, 'secrets': 0.125, 'night': 0.125, 'crash': 0.125, 'receives': 0.125, 'invitation': 0.125, 'conservatory': 0.125, 'opportunity': 0.125, 'finally': 0.125, 'allow': 0.125, 'forge': 0.125, 'path': 0.25, 'facing': 0.125, 'mortality': 0.125, 'consequences': 0.125, 'choices': 0.125, 'embarks': 0.125, 'journey': 0.25, 'reconciliation': 0.125, 'seeks': 0.125, 'bridge': 0.125, 'gap': 0.125, 'musician': 0.125, 'seeking': 0.125, 'forgiveness': 0.125, 'delve': 0.125, 'shared': 0.25, 'history': 0.125, 'uncovering': 0.125, 'new': 0.125, 'truths': 0.125, 'climax': 0.125, 'arrives': 0.125, 'drawing': 0.125, 'near': 0.125, 'grapples': 0.125, 'weight': 0.125, 'expectation': 0.125, 'desires': 0.125, 'complex': 0.125, 'emotions': 0.125, 'vulnerable': 0.125, 'raw': 0.125, 'deepest': 0.125, 'fears': 0.125, 'ghosts': 0.125, 'able': 0.125, 'mend': 0.125, 'broken': 0.125, 'bond': 0.125, 'find': 0.125, 'passion': 0.125, 'choose': 0.125, 'succumb': 0.125, 'living': 0.125, 'aunt': 0.125, 'legacy': 0.125, 'climactic': 0.125, 'poignant': 0.125, 'culmination': 0.125, 'testament': 0.125, 'power': 0.125, 'heal': 0.125, 'enduring': 0.125, 'love': 0.125}\n",
            "[\n",
            "In the bustling city of Paris, renowned pianist Marie Laurent (50s) is gearing up for her highly anticipated performance at the prestigious Palais Garnier., But behind her virtuosic talent lies a past marked by tragedy.\n",
            "\n",
            ", Years ago, a tragic car accident claimed the life of Marie's younger sister, Claire, a gifted pianist., Marie, the sole survivor, threw herself into her music, finding solace but also carrying the burden of guilt and regret.\n",
            "\n",
            ", Enter Emily (18), Marie's estranged daughter and a talented pianist in her own right., Emily harbors resentment toward her mother's perfectionism and the constant comparisons to Claire., Their strained relationship threatens to overshadow both of their musical aspirations.\n",
            "\n",
            ", As the pressure mounts for the Palais Garnier performance, a series of events forces Marie and Emily to confront their painful past., A mysterious break-in at Marie's apartment leaves her beloved grand piano vandalized, stirring up memories of the accident., A surprise visit from an old friend reveals long-held secrets about the night of the crash., Emily receives an invitation to a prestigious music conservatory, an opportunity that could finally allow her to forge her own path.\n",
            "\n",
            "Marie, facing her mortality and the consequences of her choices, embarks on a journey of reconciliation., She seeks to bridge the gap between herself and Emily, not just as a musician but also as a mother seeking forgiveness., Together, they delve into their shared history, uncovering new truths about the accident and Claire's life.\n",
            "\n",
            ", The climax arrives with the Palais Garnier performance drawing near., Emily grapples with the weight of expectation, her own desires, and the complex emotions she harbors for her mother., Marie, vulnerable and raw, must confront her deepest fears and the ghosts of her past.\n",
            "\n",
            ", Will they be able to mend their broken bond and find solace in their shared passion for music?, Will Emily choose her own path or succumb to the pressure of living up to her mother and aunt's legacy?, The climactic performance at Palais Garnier becomes a poignant culmination of their journey, a testament to the power of music to heal and the enduring love between a mother and daughter.\n",
            "]\n"
          ]
        }
      ]
    },
    {
      "cell_type": "code",
      "source": [
        "sentence_scores = {}\n",
        "for sent in sentence_tokens:\n",
        "  for word in sent:\n",
        "    if word.text.lower() in word_frequencies.keys():\n",
        "      if sent not in sentence_scores.keys():\n",
        "        sentence_scores[sent] = word_frequencies[word.text.lower()]\n",
        "      else:\n",
        "        sentence_scores[sent] += word_frequencies[word.text.lower()]\n",
        "sentence_scores\n"
      ],
      "metadata": {
        "colab": {
          "base_uri": "https://localhost:8080/"
        },
        "id": "a0VO8y1cPmTz",
        "outputId": "35bee08f-7cb3-412a-a6fd-bd3390e6050a"
      },
      "execution_count": 45,
      "outputs": [
        {
          "output_type": "execute_result",
          "data": {
            "text/plain": [
              "{\n",
              " In the bustling city of Paris, renowned pianist Marie Laurent (50s) is gearing up for her highly anticipated performance at the prestigious Palais Garnier.: 2.0,\n",
              " But behind her virtuosic talent lies a past marked by tragedy.\n",
              " : 1.75,\n",
              " Years ago, a tragic car accident claimed the life of Marie's younger sister, Claire, a gifted pianist.: 1.875,\n",
              " Marie, the sole survivor, threw herself into her music, finding solace but also carrying the burden of guilt and regret.\n",
              " : 2.5,\n",
              " Enter Emily (18), Marie's estranged daughter and a talented pianist in her own right.: 1.125,\n",
              " Emily harbors resentment toward her mother's perfectionism and the constant comparisons to Claire.: 1.375,\n",
              " Their strained relationship threatens to overshadow both of their musical aspirations.\n",
              " : 1.5,\n",
              " As the pressure mounts for the Palais Garnier performance, a series of events forces Marie and Emily to confront their painful past.: 2.0,\n",
              " A mysterious break-in at Marie's apartment leaves her beloved grand piano vandalized, stirring up memories of the accident.: 1.625,\n",
              " A surprise visit from an old friend reveals long-held secrets about the night of the crash.: 1.25,\n",
              " Emily receives an invitation to a prestigious music conservatory, an opportunity that could finally allow her to forge her own path.\n",
              " \n",
              " Marie, facing her mortality and the consequences of her choices, embarks on a journey of reconciliation.: 3.625,\n",
              " She seeks to bridge the gap between herself and Emily, not just as a musician but also as a mother seeking forgiveness.: 1.375,\n",
              " Together, they delve into their shared history, uncovering new truths about the accident and Claire's life.\n",
              " : 2.25,\n",
              " The climax arrives with the Palais Garnier performance drawing near.: 1.0,\n",
              " Emily grapples with the weight of expectation, her own desires, and the complex emotions she harbors for her mother.: 1.625,\n",
              " Marie, vulnerable and raw, must confront her deepest fears and the ghosts of her past.\n",
              " : 2.0,\n",
              " Will they be able to mend their broken bond and find solace in their shared passion for music?: 1.75,\n",
              " Will Emily choose her own path or succumb to the pressure of living up to her mother and aunt's legacy?: 1.75,\n",
              " The climactic performance at Palais Garnier becomes a poignant culmination of their journey, a testament to the power of music to heal and the enduring love between a mother and daughter.: 3.125}"
            ]
          },
          "metadata": {},
          "execution_count": 45
        }
      ]
    },
    {
      "cell_type": "code",
      "source": [
        "from heapq import nlargest\n",
        "\n",
        "# Assuming sentence_scores is a dictionary mapping sentence indexes to their scores\n",
        "select_length = int(len(sentence_tokens) * 0.3)\n",
        "# Get a list of sentence indexes with the highest scores\n",
        "highest_scoring_indexes = nlargest(select_length, sentence_scores, key=sentence_scores.get)\n",
        "# Initialize empty final summary list\n",
        "final_summary = []\n",
        "# Iterate through the highest scoring sentence indexes and extract words\n",
        "for index in highest_scoring_indexes:\n",
        "  if index.start < len(sentence_tokens):\n",
        "    sentence = sentence_tokens[index.start]\n",
        "    final_summary.extend(word.text for word in sentence)\n",
        "# Join words in final_summary with spaces to create the summary string\n",
        "summary = ' '.join(final_summary)\n",
        "print(summary)  # This will now print the final summary"
      ],
      "metadata": {
        "colab": {
          "base_uri": "https://localhost:8080/"
        },
        "id": "DY1nNYBLPn6x",
        "outputId": "2abdad85-1824-42ab-e1c4-eb9059d74b2f"
      },
      "execution_count": 46,
      "outputs": [
        {
          "output_type": "stream",
          "name": "stdout",
          "text": [
            "\n",
            " In the bustling city of Paris , renowned pianist Marie Laurent ( 50s ) is gearing up for her highly anticipated performance at the prestigious Palais Garnier .\n"
          ]
        }
      ]
    }
  ]
}