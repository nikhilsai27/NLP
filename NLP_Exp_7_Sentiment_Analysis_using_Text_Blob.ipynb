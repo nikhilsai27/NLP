{
  "nbformat": 4,
  "nbformat_minor": 0,
  "metadata": {
    "colab": {
      "provenance": [],
      "authorship_tag": "ABX9TyPQaSFT5zbYaXiXl0LXkyx+",
      "include_colab_link": true
    },
    "kernelspec": {
      "name": "python3",
      "display_name": "Python 3"
    },
    "language_info": {
      "name": "python"
    }
  },
  "cells": [
    {
      "cell_type": "markdown",
      "metadata": {
        "id": "view-in-github",
        "colab_type": "text"
      },
      "source": [
        "<a href=\"https://colab.research.google.com/github/nikhilsai27/NLP/blob/main/NLP_Exp_7_Sentiment_Analysis_using_Text_Blob.ipynb\" target=\"_parent\"><img src=\"https://colab.research.google.com/assets/colab-badge.svg\" alt=\"Open In Colab\"/></a>"
      ]
    },
    {
      "cell_type": "code",
      "execution_count": 1,
      "metadata": {
        "colab": {
          "base_uri": "https://localhost:8080/"
        },
        "id": "6jwJQ6d0Dspt",
        "outputId": "6552edd7-7c36-4ef5-e514-499a4c508665"
      },
      "outputs": [
        {
          "output_type": "stream",
          "name": "stdout",
          "text": [
            "Requirement already satisfied: textblob in /usr/local/lib/python3.10/dist-packages (0.17.1)\n",
            "Requirement already satisfied: nltk>=3.1 in /usr/local/lib/python3.10/dist-packages (from textblob) (3.8.1)\n",
            "Requirement already satisfied: click in /usr/local/lib/python3.10/dist-packages (from nltk>=3.1->textblob) (8.1.7)\n",
            "Requirement already satisfied: joblib in /usr/local/lib/python3.10/dist-packages (from nltk>=3.1->textblob) (1.4.0)\n",
            "Requirement already satisfied: regex>=2021.8.3 in /usr/local/lib/python3.10/dist-packages (from nltk>=3.1->textblob) (2023.12.25)\n",
            "Requirement already satisfied: tqdm in /usr/local/lib/python3.10/dist-packages (from nltk>=3.1->textblob) (4.66.2)\n"
          ]
        }
      ],
      "source": [
        "pip install textblob"
      ]
    },
    {
      "cell_type": "code",
      "source": [
        "from textblob import TextBlob"
      ],
      "metadata": {
        "id": "Sn31hthOD5VM"
      },
      "execution_count": 2,
      "outputs": []
    },
    {
      "cell_type": "code",
      "source": [
        "def analyze_sentiment(text):\n",
        "\n",
        "    blob = TextBlob(text)\n",
        "\n",
        "    polarity = blob.sentiment.polarity\n",
        "\n",
        "    if polarity > 0:\n",
        "        sentiment = \"Positive\"\n",
        "    elif polarity < 0:\n",
        "        sentiment = \"Negative\"\n",
        "    else:\n",
        "        sentiment = \"Neutral\"\n",
        "\n",
        "    return polarity, sentiment"
      ],
      "metadata": {
        "id": "5YNxEJVaEKdL"
      },
      "execution_count": 3,
      "outputs": []
    },
    {
      "cell_type": "code",
      "source": [
        "def main():\n",
        "    # Sample weather data\n",
        "    weather_data = [\n",
        "        \"The weather today is amazing!\",\n",
        "        \"It's raining heavily and it's so gloomy outside.\",\n",
        "        \"The sun is shining brightly, it's a beautiful day.\",\n",
        "        \"The weather forecast predicts thunderstorms for tomorrow.\",\n",
        "        \"It's freezing cold outside.\"\n",
        "    ]\n",
        "\n",
        "    for data in weather_data:\n",
        "        print(\"Data:\", data)\n",
        "        polarity, sentiment = analyze_sentiment(data)\n",
        "        print(\"Sentiment Polarity:\", polarity)\n",
        "        print(\"Overall Sentiment:\", sentiment)\n",
        "        print()\n",
        "\n"
      ],
      "metadata": {
        "id": "BEPKrh6xEMY9"
      },
      "execution_count": 4,
      "outputs": []
    },
    {
      "cell_type": "code",
      "source": [
        "if __name__ == \"__main__\":\n",
        "    main()"
      ],
      "metadata": {
        "colab": {
          "base_uri": "https://localhost:8080/"
        },
        "id": "Oy7ME3VMEUfx",
        "outputId": "e8c2fff6-7f1c-4e22-ffd5-096b029fad0a"
      },
      "execution_count": 5,
      "outputs": [
        {
          "output_type": "stream",
          "name": "stdout",
          "text": [
            "Data: The weather today is amazing!\n",
            "Sentiment Polarity: 0.7500000000000001\n",
            "Overall Sentiment: Positive\n",
            "\n",
            "Data: It's raining heavily and it's so gloomy outside.\n",
            "Sentiment Polarity: -0.1\n",
            "Overall Sentiment: Negative\n",
            "\n",
            "Data: The sun is shining brightly, it's a beautiful day.\n",
            "Sentiment Polarity: 0.85\n",
            "Overall Sentiment: Positive\n",
            "\n",
            "Data: The weather forecast predicts thunderstorms for tomorrow.\n",
            "Sentiment Polarity: 0.0\n",
            "Overall Sentiment: Neutral\n",
            "\n",
            "Data: It's freezing cold outside.\n",
            "Sentiment Polarity: -0.3\n",
            "Overall Sentiment: Negative\n",
            "\n"
          ]
        }
      ]
    }
  ]
}