{
  "nbformat": 4,
  "nbformat_minor": 0,
  "metadata": {
    "colab": {
      "provenance": [],
      "authorship_tag": "ABX9TyMNZqr+9H2I1UV6/k7n8c37",
      "include_colab_link": true
    },
    "kernelspec": {
      "name": "python3",
      "display_name": "Python 3"
    },
    "language_info": {
      "name": "python"
    }
  },
  "cells": [
    {
      "cell_type": "markdown",
      "metadata": {
        "id": "view-in-github",
        "colab_type": "text"
      },
      "source": [
        "<a href=\"https://colab.research.google.com/github/nikhilsai27/NLP/blob/main/NLP_Exp_10_LSTM.ipynb\" target=\"_parent\"><img src=\"https://colab.research.google.com/assets/colab-badge.svg\" alt=\"Open In Colab\"/></a>"
      ]
    },
    {
      "cell_type": "code",
      "execution_count": 1,
      "metadata": {
        "id": "aTCl_93XQc7e"
      },
      "outputs": [],
      "source": [
        "import numpy as np\n",
        "import tensorflow as tf\n",
        "from tensorflow.keras.models import Sequential\n",
        "from tensorflow.keras.layers import LSTM, Dense, Embedding\n",
        "from tensorflow.keras.preprocessing.text import Tokenizer\n",
        "from tensorflow.keras.preprocessing.sequence import pad_sequences"
      ]
    },
    {
      "cell_type": "code",
      "source": [
        "text_corpus = \"\"\"\n",
        "Evelyn Thorne, a world-famous violinist in her 50s, was preparing for the biggest concert of her career – a solo performance at Carnegie Hall. But beneath her success lay a past filled with tragedy.\n",
        "\n",
        "Years ago, a devastating fire took the life of her younger sister, Lily, who was also a talented violinist. Evelyn, the only survivor, found solace in her music but was haunted by the memory of her sister.\n",
        "\n",
        "Enter Sophia, Evelyn's 18-year-old daughter, also gifted in violin. Sophia resented her mother's constant push for perfection and the shadow of her late aunt, Lily, that loomed over her.\n",
        "\n",
        "As the pressure mounted for the Carnegie Hall performance, a series of events forced Evelyn and Sophia to confront their painful past. A mysterious fire destroyed Evelyn's prized violin, a gift from Lily. A surprise visit from an old mentor revealed a long-held secret about the night of the fire. Sophia received an invitation to a prestigious music school, which could finally allow her to step out of her mother's shadow.\n",
        "\n",
        "Facing her own mortality and the consequences of her choices, Evelyn embarked on a journey of reconciliation with Sophia. They delved into their shared history, uncovering new truths about Lily's life and the fire.\n",
        "\n",
        "The climax came with Carnegie Hall looming. Sophia struggled with the weight of expectations and her complicated feelings towards her mother. Evelyn, vulnerable and raw, had to confront her deepest fears and the ghost of her past.\n",
        "\n",
        "In the end, they found a way to mend their broken bond and connect through their shared passion for music. Sophia chose her own path, free from the pressure of her mother's legacy. The climactic performance at Carnegie Hall became a poignant testament to the power of music to heal and the enduring love between a mother and daughter.\n",
        "\"\"\""
      ],
      "metadata": {
        "id": "0SBdqXESQfFO"
      },
      "execution_count": 2,
      "outputs": []
    },
    {
      "cell_type": "code",
      "source": [
        "tokenizer = Tokenizer()\n",
        "tokenizer.fit_on_texts([text_corpus])\n",
        "total_words = len(tokenizer.word_index) + 1"
      ],
      "metadata": {
        "id": "AwXbRPJcQsIT"
      },
      "execution_count": 3,
      "outputs": []
    },
    {
      "cell_type": "code",
      "source": [
        "input_sequences = []\n",
        "for line in text_corpus.split('\\n'):\n",
        "    token_list = tokenizer.texts_to_sequences([line])[0]\n",
        "    for i in range(1, len(token_list)):\n",
        "        n_gram_sequence = token_list[:i+1]\n",
        "        input_sequences.append(n_gram_sequence)"
      ],
      "metadata": {
        "id": "3ODIrBqRQtWY"
      },
      "execution_count": 4,
      "outputs": []
    },
    {
      "cell_type": "code",
      "source": [
        "max_sequence_length = max([len(x) for x in input_sequences])\n",
        "input_sequences = pad_sequences(input_sequences, maxlen=max_sequence_length, padding='pre')"
      ],
      "metadata": {
        "id": "w8ZqirgfQvPd"
      },
      "execution_count": 5,
      "outputs": []
    },
    {
      "cell_type": "code",
      "source": [
        "X = input_sequences[:, :-1]\n",
        "y = input_sequences[:, -1]"
      ],
      "metadata": {
        "id": "BOhMpQOJQw38"
      },
      "execution_count": 6,
      "outputs": []
    },
    {
      "cell_type": "code",
      "source": [
        "model = Sequential()\n",
        "model.add(Embedding(total_words, 100, input_length=max_sequence_length-1))\n",
        "model.add(LSTM(150))\n",
        "model.add(Dense(total_words, activation='softmax'))"
      ],
      "metadata": {
        "id": "634SNq8mQyQs"
      },
      "execution_count": 7,
      "outputs": []
    },
    {
      "cell_type": "code",
      "source": [
        "learning_rate = 0.01\n",
        "batch_size = 50\n",
        "epochs = 10"
      ],
      "metadata": {
        "id": "FDvyC12OQzzE"
      },
      "execution_count": 8,
      "outputs": []
    },
    {
      "cell_type": "code",
      "source": [
        "optimizer = tf.keras.optimizers.Adam(learning_rate=learning_rate)\n",
        "model.compile(loss='sparse_categorical_crossentropy', optimizer=optimizer, metrics=['accuracy'])"
      ],
      "metadata": {
        "id": "XrzbbUSXQ1nj"
      },
      "execution_count": 9,
      "outputs": []
    },
    {
      "cell_type": "code",
      "source": [
        "model.fit(X, y, epochs=epochs, batch_size=batch_size, verbose=1)"
      ],
      "metadata": {
        "colab": {
          "base_uri": "https://localhost:8080/"
        },
        "id": "5oAfonuZQ3Ao",
        "outputId": "dd3ffefa-c1f5-4524-ce0e-cc2353c5d7a5"
      },
      "execution_count": 10,
      "outputs": [
        {
          "output_type": "stream",
          "name": "stdout",
          "text": [
            "Epoch 1/10\n",
            "6/6 [==============================] - 5s 329ms/step - loss: 5.1022 - accuracy: 0.0302\n",
            "Epoch 2/10\n",
            "6/6 [==============================] - 2s 286ms/step - loss: 4.7786 - accuracy: 0.0638\n",
            "Epoch 3/10\n",
            "6/6 [==============================] - 1s 162ms/step - loss: 4.5871 - accuracy: 0.0671\n",
            "Epoch 4/10\n",
            "6/6 [==============================] - 1s 167ms/step - loss: 4.3041 - accuracy: 0.1141\n",
            "Epoch 5/10\n",
            "6/6 [==============================] - 1s 178ms/step - loss: 3.8423 - accuracy: 0.1946\n",
            "Epoch 6/10\n",
            "6/6 [==============================] - 1s 175ms/step - loss: 3.2185 - accuracy: 0.3020\n",
            "Epoch 7/10\n",
            "6/6 [==============================] - 1s 203ms/step - loss: 2.4676 - accuracy: 0.4128\n",
            "Epoch 8/10\n",
            "6/6 [==============================] - 1s 182ms/step - loss: 1.7275 - accuracy: 0.6007\n",
            "Epoch 9/10\n",
            "6/6 [==============================] - 1s 170ms/step - loss: 1.0543 - accuracy: 0.7886\n",
            "Epoch 10/10\n",
            "6/6 [==============================] - 1s 156ms/step - loss: 0.6377 - accuracy: 0.9262\n"
          ]
        },
        {
          "output_type": "execute_result",
          "data": {
            "text/plain": [
              "<keras.src.callbacks.History at 0x7852524e1cc0>"
            ]
          },
          "metadata": {},
          "execution_count": 10
        }
      ]
    },
    {
      "cell_type": "code",
      "source": [
        "import numpy as np\n",
        "\n",
        "def generate_text(seed_text, next_words, model, max_sequence_length):\n",
        "    for _ in range(next_words):\n",
        "        token_list = tokenizer.texts_to_sequences([seed_text])[0]\n",
        "        token_list = pad_sequences([token_list], maxlen=max_sequence_length-1, padding='pre')\n",
        "        predicted_probs = model.predict(token_list)[0]\n",
        "        predicted_word_index = np.random.choice(len(predicted_probs), p=predicted_probs)\n",
        "        output_word = tokenizer.index_word.get(predicted_word_index, \"\")\n",
        "        seed_text += \" \" + output_word\n",
        "    return seed_text"
      ],
      "metadata": {
        "id": "KIC77k8mQ4vR"
      },
      "execution_count": 11,
      "outputs": []
    },
    {
      "cell_type": "code",
      "source": [
        "generated_text = generate_text(\"Generated Text:\", 10, model, max_sequence_length)\n",
        "print(generated_text)"
      ],
      "metadata": {
        "colab": {
          "base_uri": "https://localhost:8080/"
        },
        "id": "DyhAaIEHQ6K5",
        "outputId": "33c2481a-1d47-4293-db7d-3852fecafb88"
      },
      "execution_count": 12,
      "outputs": [
        {
          "output_type": "stream",
          "name": "stdout",
          "text": [
            "1/1 [==============================] - 1s 559ms/step\n",
            "1/1 [==============================] - 0s 51ms/step\n",
            "1/1 [==============================] - 0s 40ms/step\n",
            "1/1 [==============================] - 0s 45ms/step\n",
            "1/1 [==============================] - 0s 31ms/step\n",
            "1/1 [==============================] - 0s 32ms/step\n",
            "1/1 [==============================] - 0s 31ms/step\n",
            "1/1 [==============================] - 0s 34ms/step\n",
            "1/1 [==============================] - 0s 31ms/step\n",
            "1/1 [==============================] - 0s 31ms/step\n",
            "Generated Text: ago a world haunted violinist violinist in her 50s preparing\n"
          ]
        }
      ]
    },
    {
      "cell_type": "code",
      "source": [
        "val_loss, val_accuracy = model.evaluate(X, y, verbose=0)\n",
        "print(f\"Loss: {val_loss:.4f}\")\n",
        "print(f\" Accuracy: {val_accuracy:.4f}\")"
      ],
      "metadata": {
        "colab": {
          "base_uri": "https://localhost:8080/"
        },
        "id": "Gtwdii2cQ7hK",
        "outputId": "2a063110-0765-4a84-8b56-904acd0e6d4a"
      },
      "execution_count": 13,
      "outputs": [
        {
          "output_type": "stream",
          "name": "stdout",
          "text": [
            "Loss: 0.3762\n",
            " Accuracy: 0.9732\n"
          ]
        }
      ]
    }
  ]
}