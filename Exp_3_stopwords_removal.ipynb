{
  "nbformat": 4,
  "nbformat_minor": 0,
  "metadata": {
    "colab": {
      "provenance": [],
      "authorship_tag": "ABX9TyPL0dz35blvIm6JKr2UFPsA",
      "include_colab_link": true
    },
    "kernelspec": {
      "name": "python3",
      "display_name": "Python 3"
    },
    "language_info": {
      "name": "python"
    }
  },
  "cells": [
    {
      "cell_type": "markdown",
      "metadata": {
        "id": "view-in-github",
        "colab_type": "text"
      },
      "source": [
        "<a href=\"https://colab.research.google.com/github/nikhilsai27/NLP/blob/main/Exp_3_stopwords_removal.ipynb\" target=\"_parent\"><img src=\"https://colab.research.google.com/assets/colab-badge.svg\" alt=\"Open In Colab\"/></a>"
      ]
    },
    {
      "cell_type": "code",
      "execution_count": 9,
      "metadata": {
        "id": "IrD-FEFxZQlw"
      },
      "outputs": [],
      "source": [
        "import nltk\n",
        "from nltk.corpus import stopwords\n",
        "from nltk.tokenize import word_tokenize"
      ]
    },
    {
      "cell_type": "code",
      "source": [
        "nltk.download('punkt')"
      ],
      "metadata": {
        "colab": {
          "base_uri": "https://localhost:8080/"
        },
        "id": "i0X3D_r-jnC0",
        "outputId": "d1abb7dd-32f8-4c59-c03f-e589d78bd875"
      },
      "execution_count": 10,
      "outputs": [
        {
          "output_type": "stream",
          "name": "stderr",
          "text": [
            "[nltk_data] Downloading package punkt to /root/nltk_data...\n",
            "[nltk_data]   Package punkt is already up-to-date!\n"
          ]
        },
        {
          "output_type": "execute_result",
          "data": {
            "text/plain": [
              "True"
            ]
          },
          "metadata": {},
          "execution_count": 10
        }
      ]
    },
    {
      "cell_type": "code",
      "source": [
        "nltk.download('stopwords')"
      ],
      "metadata": {
        "colab": {
          "base_uri": "https://localhost:8080/"
        },
        "id": "Hdq11SD2jrEY",
        "outputId": "12860777-a081-436c-9c77-c3a3b024e826"
      },
      "execution_count": 11,
      "outputs": [
        {
          "output_type": "stream",
          "name": "stderr",
          "text": [
            "[nltk_data] Downloading package stopwords to /root/nltk_data...\n",
            "[nltk_data]   Package stopwords is already up-to-date!\n"
          ]
        },
        {
          "output_type": "execute_result",
          "data": {
            "text/plain": [
              "True"
            ]
          },
          "metadata": {},
          "execution_count": 11
        }
      ]
    },
    {
      "cell_type": "code",
      "source": [
        "# Given text\n",
        "text = \"It's a beautiful day outside, but I have to stay indoors and work on my project.\"\n",
        "words=word_tokenize(text)"
      ],
      "metadata": {
        "id": "veJFXcmbjwZt"
      },
      "execution_count": 12,
      "outputs": []
    },
    {
      "cell_type": "code",
      "source": [
        "words"
      ],
      "metadata": {
        "colab": {
          "base_uri": "https://localhost:8080/"
        },
        "id": "Cl55jd3yl86H",
        "outputId": "404333a3-014c-4291-9b8c-2ad14bf3ad95"
      },
      "execution_count": 13,
      "outputs": [
        {
          "output_type": "execute_result",
          "data": {
            "text/plain": [
              "['It',\n",
              " \"'s\",\n",
              " 'a',\n",
              " 'beautiful',\n",
              " 'day',\n",
              " 'outside',\n",
              " ',',\n",
              " 'but',\n",
              " 'I',\n",
              " 'have',\n",
              " 'to',\n",
              " 'stay',\n",
              " 'indoors',\n",
              " 'and',\n",
              " 'work',\n",
              " 'on',\n",
              " 'my',\n",
              " 'project',\n",
              " '.']"
            ]
          },
          "metadata": {},
          "execution_count": 13
        }
      ]
    },
    {
      "cell_type": "code",
      "source": [
        "# Set of English stopwords from NLTK\n",
        "stop_words= set(stopwords.words('english'))"
      ],
      "metadata": {
        "id": "QzBmTRN3kLWz"
      },
      "execution_count": 14,
      "outputs": []
    },
    {
      "cell_type": "code",
      "source": [
        "#filter/remove stopwords\n",
        "filter_words = [word for word in words if word.lower() not in stop_words]\n",
        "print(filter_words)"
      ],
      "metadata": {
        "colab": {
          "base_uri": "https://localhost:8080/"
        },
        "id": "iSg9SAhHkcD3",
        "outputId": "7b4908bd-cd26-4e57-9d13-4061e96c955f"
      },
      "execution_count": 15,
      "outputs": [
        {
          "output_type": "stream",
          "name": "stdout",
          "text": [
            "[\"'s\", 'beautiful', 'day', 'outside', ',', 'stay', 'indoors', 'work', 'project', '.']\n"
          ]
        }
      ]
    }
  ]
}