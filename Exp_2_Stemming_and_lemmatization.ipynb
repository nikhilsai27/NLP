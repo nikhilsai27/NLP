{
  "nbformat": 4,
  "nbformat_minor": 0,
  "metadata": {
    "colab": {
      "provenance": [],
      "authorship_tag": "ABX9TyNaWUUR7lkElw/QZY6TX8qt",
      "include_colab_link": true
    },
    "kernelspec": {
      "name": "python3",
      "display_name": "Python 3"
    },
    "language_info": {
      "name": "python"
    }
  },
  "cells": [
    {
      "cell_type": "markdown",
      "metadata": {
        "id": "view-in-github",
        "colab_type": "text"
      },
      "source": [
        "<a href=\"https://colab.research.google.com/github/nikhilsai27/NLP/blob/main/Exp_2_Stemming_and_lemmatization.ipynb\" target=\"_parent\"><img src=\"https://colab.research.google.com/assets/colab-badge.svg\" alt=\"Open In Colab\"/></a>"
      ]
    },
    {
      "cell_type": "code",
      "execution_count": 1,
      "metadata": {
        "id": "YyfIbjy2YAS8"
      },
      "outputs": [],
      "source": [
        "from nltk.stem import PorterStemmer as ps\n",
        "from nltk.stem import LancasterStemmer as ls\n",
        "from nltk.stem import RegexpStemmer as rxs\n",
        "from nltk.stem import SnowballStemmer as sbs"
      ]
    },
    {
      "cell_type": "code",
      "source": [
        "#porterstemmer\n",
        "porter=ps()\n",
        "words=['caring','jumping','kindness','running']\n",
        "stemmed=[porter.stem(word) for word in words]\n",
        "\n",
        "print('\\033[1mOriginal words:\\033[0m',words)\n",
        "print('\\nposterstemmer words:',stemmed)"
      ],
      "metadata": {
        "colab": {
          "base_uri": "https://localhost:8080/"
        },
        "id": "qWR7SdQ0YUUP",
        "outputId": "e711d262-6b08-4a9f-fc80-74e5589581e9"
      },
      "execution_count": 2,
      "outputs": [
        {
          "output_type": "stream",
          "name": "stdout",
          "text": [
            "\u001b[1mOriginal words:\u001b[0m ['caring', 'jumping', 'kindness', 'running']\n",
            "\n",
            "posterstemmer words: ['care', 'jump', 'kind', 'run']\n"
          ]
        }
      ]
    },
    {
      "cell_type": "code",
      "source": [
        "#lancerterstemmer\n",
        "stemmed=[ls().stem(word) for word in words]\n",
        "print(\"lancaster stemmed words:\",stemmed)"
      ],
      "metadata": {
        "colab": {
          "base_uri": "https://localhost:8080/"
        },
        "id": "22vmhCMfYWct",
        "outputId": "4dc761c2-c61e-4b28-b178-e5bdafd3ad10"
      },
      "execution_count": 3,
      "outputs": [
        {
          "output_type": "stream",
          "name": "stdout",
          "text": [
            "lancaster stemmed words: ['car', 'jump', 'kind', 'run']\n"
          ]
        }
      ]
    },
    {
      "cell_type": "code",
      "source": [
        "#regexpStemmer\n",
        "stemmed=[rxs('ing$|s$|ly$').stem(word) for word in words]\n",
        "print('regexp Stemmed words:',stemmed)"
      ],
      "metadata": {
        "colab": {
          "base_uri": "https://localhost:8080/"
        },
        "id": "H6wJ26dIYZQ3",
        "outputId": "b3d9b02c-0ca6-4bde-d211-f839a80485f5"
      },
      "execution_count": 4,
      "outputs": [
        {
          "output_type": "stream",
          "name": "stdout",
          "text": [
            "regexp Stemmed words: ['car', 'jump', 'kindnes', 'runn']\n"
          ]
        }
      ]
    },
    {
      "cell_type": "code",
      "source": [
        "#snowball stemmer\n",
        "stemmed=[sbs('english').stem(word) for word in words]\n",
        "print('snowfall stemmed words:',stemmed)"
      ],
      "metadata": {
        "colab": {
          "base_uri": "https://localhost:8080/"
        },
        "id": "Y2c1b3u-Yb31",
        "outputId": "c4f0981e-13f5-4fde-9b90-10fca223ca35"
      },
      "execution_count": 5,
      "outputs": [
        {
          "output_type": "stream",
          "name": "stdout",
          "text": [
            "snowfall stemmed words: ['care', 'jump', 'kind', 'run']\n"
          ]
        }
      ]
    },
    {
      "cell_type": "code",
      "source": [
        "#Lemmatization\n",
        "from nltk.stem import WordNetLemmatizer as wl"
      ],
      "metadata": {
        "id": "u3aUYvZZYeeB"
      },
      "execution_count": 6,
      "outputs": []
    },
    {
      "cell_type": "code",
      "source": [
        "import nltk\n",
        "nltk.download('wordnet')"
      ],
      "metadata": {
        "colab": {
          "base_uri": "https://localhost:8080/"
        },
        "id": "DII52SCGYfxT",
        "outputId": "eb11f5b8-17f6-4c86-8030-effb557ef536"
      },
      "execution_count": 7,
      "outputs": [
        {
          "output_type": "stream",
          "name": "stderr",
          "text": [
            "[nltk_data] Downloading package wordnet to /root/nltk_data...\n"
          ]
        },
        {
          "output_type": "execute_result",
          "data": {
            "text/plain": [
              "True"
            ]
          },
          "metadata": {},
          "execution_count": 7
        }
      ]
    },
    {
      "cell_type": "code",
      "source": [
        "\n",
        "wl().lemmatize('caring')\n"
      ],
      "metadata": {
        "colab": {
          "base_uri": "https://localhost:8080/",
          "height": 35
        },
        "id": "FWBy49bdYjOE",
        "outputId": "f6a9bb52-607f-429a-de9c-b2b001dd0ed8"
      },
      "execution_count": 8,
      "outputs": [
        {
          "output_type": "execute_result",
          "data": {
            "text/plain": [
              "'caring'"
            ],
            "application/vnd.google.colaboratory.intrinsic+json": {
              "type": "string"
            }
          },
          "metadata": {},
          "execution_count": 8
        }
      ]
    },
    {
      "cell_type": "code",
      "source": [
        "wl().lemmatize('cars')"
      ],
      "metadata": {
        "colab": {
          "base_uri": "https://localhost:8080/",
          "height": 35
        },
        "id": "qNregElkYkWV",
        "outputId": "df46295e-984e-4127-e182-d5d352a91326"
      },
      "execution_count": 9,
      "outputs": [
        {
          "output_type": "execute_result",
          "data": {
            "text/plain": [
              "'car'"
            ],
            "application/vnd.google.colaboratory.intrinsic+json": {
              "type": "string"
            }
          },
          "metadata": {},
          "execution_count": 9
        }
      ]
    }
  ]
}