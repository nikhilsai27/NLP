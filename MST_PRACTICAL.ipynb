{
  "nbformat": 4,
  "nbformat_minor": 0,
  "metadata": {
    "colab": {
      "provenance": [],
      "authorship_tag": "ABX9TyOJGEjP3twxdLbWQ4UQcNcC",
      "include_colab_link": true
    },
    "kernelspec": {
      "name": "python3",
      "display_name": "Python 3"
    },
    "language_info": {
      "name": "python"
    }
  },
  "cells": [
    {
      "cell_type": "markdown",
      "metadata": {
        "id": "view-in-github",
        "colab_type": "text"
      },
      "source": [
        "<a href=\"https://colab.research.google.com/github/nikhilsai27/NLP/blob/main/MST_PRACTICAL.ipynb\" target=\"_parent\"><img src=\"https://colab.research.google.com/assets/colab-badge.svg\" alt=\"Open In Colab\"/></a>"
      ]
    },
    {
      "cell_type": "code",
      "execution_count": 1,
      "metadata": {
        "id": "JlCEJDO6CAHa"
      },
      "outputs": [],
      "source": [
        "import nltk\n",
        "from nltk.tokenize import word_tokenize, sent_tokenize\n",
        "from nltk.corpus import stopwords\n",
        "from nltk.stem import PorterStemmer, WordNetLemmatizer\n",
        "from nltk import pos_tag"
      ]
    },
    {
      "cell_type": "code",
      "source": [
        "nltk.download('punkt')\n",
        "nltk.download('stopwords')\n",
        "nltk.download('wordnet')\n",
        "nltk.download('averaged_perceptron_tagger')"
      ],
      "metadata": {
        "colab": {
          "base_uri": "https://localhost:8080/"
        },
        "id": "n6uBkwGHCDEb",
        "outputId": "396ed0ec-aa45-48cd-99af-a734b12ac893"
      },
      "execution_count": 2,
      "outputs": [
        {
          "output_type": "stream",
          "name": "stderr",
          "text": [
            "[nltk_data] Downloading package punkt to /root/nltk_data...\n",
            "[nltk_data]   Unzipping tokenizers/punkt.zip.\n",
            "[nltk_data] Downloading package stopwords to /root/nltk_data...\n",
            "[nltk_data]   Unzipping corpora/stopwords.zip.\n",
            "[nltk_data] Downloading package wordnet to /root/nltk_data...\n",
            "[nltk_data] Downloading package averaged_perceptron_tagger to\n",
            "[nltk_data]     /root/nltk_data...\n",
            "[nltk_data]   Unzipping taggers/averaged_perceptron_tagger.zip.\n"
          ]
        },
        {
          "output_type": "execute_result",
          "data": {
            "text/plain": [
              "True"
            ]
          },
          "metadata": {},
          "execution_count": 2
        }
      ]
    },
    {
      "cell_type": "code",
      "source": [
        "story = \"\"\"\n",
        "In the quiet town of Willowbrook, nestled amidst rolling hills and whispering trees, lived a young woman named Eliza.\n",
        "With hair like spun gold and eyes as blue as the summer sky, she wandered through life with a curious heart and a gentle spirit.\n",
        "Eliza worked at the town's quaint bookstore, where the scent of old pages mingled with the promise of new adventures.\n",
        "She spent her days lost in stories, enchanted by worlds both real and imagined. But amidst the shelves of books,\n",
        "Eliza yearned for her own tale to unfold.\n",
        "One fateful evening, as the sun dipped below the horizon and painted the sky with hues of pink and gold, Eliza stumbled upon a dusty tome hidden in the farthest corner of the store.\n",
        "Its cover, worn with age, seemed to beckon her closer.\n",
        "With trembling hands, she opened the book and found herself transported to a realm of magic and mystery.\n",
        "Words danced across the pages, weaving a tale of forgotten kingdoms and brave heroes.\n",
        "And in the heart of the story stood a figure cloaked in shadow—a figure Eliza knew all too well.\n",
        "For within the pages of the ancient tome lay the story of her own ancestors, guardians of a secret long buried beneath the earth.\n",
        "With each turn of the page, Eliza felt the pull of destiny tugging at her soul.\n",
        "Determined to uncover the truth, Eliza set out on a journey that would take her beyond the borders of Willowbrook and into the unknown.\n",
        "Along the way, she encountered friends and foes alike, each one shaping her path in ways she could never have imagined.\n",
        "Through dark forests and across vast oceans, Eliza pressed on, driven by the promise of discovery and the hope of redemption.\n",
        "And as she delved deeper into the mysteries of her family's past, she unearthed secrets that threatened to tear her world apart.\n",
        "But Eliza was not alone in her quest. With courage as her guide and love as her compass, she faced every challenge head-on, determined to forge her own destiny and reclaim her birthright.\n",
        "And so, as the stars shimmered overhead and the first light of dawn kissed the horizon, Eliza emerged from the shadows,\n",
        "her spirit ablaze with newfound purpose. For she had learned that the greatest story of all was the one she carried within her heart—a story of courage, perseverance, and the enduring power of hope.\n",
        "And as she gazed out upon the world spread before her, Eliza knew that her journey was far from over.\n",
        "For wherever the winds of destiny may lead, she would always be ready to chase the next chapter of her tale.\n",
        "\"\"\""
      ],
      "metadata": {
        "id": "XTGmGWgJCJjh"
      },
      "execution_count": 3,
      "outputs": []
    },
    {
      "cell_type": "code",
      "source": [
        "# Tokenization\n",
        "tokens = word_tokenize(story)\n"
      ],
      "metadata": {
        "id": "zsNProsBCN1M"
      },
      "execution_count": 4,
      "outputs": []
    },
    {
      "cell_type": "code",
      "source": [
        "# POS Tagging\n",
        "pos_tags = pos_tag(tokens)"
      ],
      "metadata": {
        "id": "NDF_69Y7CSDO"
      },
      "execution_count": 5,
      "outputs": []
    },
    {
      "cell_type": "code",
      "source": [
        "# Removing Stopwords\n",
        "stop_words = set(stopwords.words('english'))\n",
        "filtered_tokens = [word for word in tokens if word.lower() not in stop_words]\n"
      ],
      "metadata": {
        "id": "fGMUZY-XCVa0"
      },
      "execution_count": 6,
      "outputs": []
    },
    {
      "cell_type": "code",
      "source": [
        "\n",
        "# Stemming\n",
        "stemmer = PorterStemmer()\n",
        "stemmed_tokens = [stemmer.stem(word) for word in filtered_tokens]"
      ],
      "metadata": {
        "id": "iRVt20AuCW0q"
      },
      "execution_count": 7,
      "outputs": []
    },
    {
      "cell_type": "code",
      "source": [
        "# Lemmatization\n",
        "lemmatizer = WordNetLemmatizer()\n",
        "lemmatized_tokens = [lemmatizer.lemmatize(word, pos='v') for word in filtered_tokens]\n"
      ],
      "metadata": {
        "id": "Kzx7A3TcCbH3"
      },
      "execution_count": 8,
      "outputs": []
    },
    {
      "cell_type": "markdown",
      "source": [
        "Frequency of characters in a string"
      ],
      "metadata": {
        "id": "7Q4msJnjd1Ct"
      }
    },
    {
      "cell_type": "code",
      "source": [
        "def word_frequency(story):\n",
        "\n",
        "    story = story.lower().replace(',', '').replace('.', '').replace('!', '').replace('?', '')\n",
        "\n",
        "    words = story.split()\n",
        "\n",
        "    frequency = {}\n",
        "\n",
        "\n",
        "    for word in words:\n",
        "\n",
        "        frequency[word] = frequency.get(word, 0) + 1\n",
        "\n",
        "    return frequency\n",
        "\n",
        "input_string = story\n",
        "result = word_frequency(input_string)\n",
        "\n",
        "for word, freq in result.items():\n",
        "    print(f\"Word '{word}' occurs {freq} times.\")\n"
      ],
      "metadata": {
        "colab": {
          "base_uri": "https://localhost:8080/"
        },
        "id": "4bSNKHd_dIFV",
        "outputId": "9f71d08a-fce4-4f70-b81b-e08ca31c82e4"
      },
      "execution_count": 12,
      "outputs": [
        {
          "output_type": "stream",
          "name": "stdout",
          "text": [
            "Word 'in' occurs 7 times.\n",
            "Word 'the' occurs 38 times.\n",
            "Word 'quiet' occurs 1 times.\n",
            "Word 'town' occurs 1 times.\n",
            "Word 'of' occurs 24 times.\n",
            "Word 'willowbrook' occurs 2 times.\n",
            "Word 'nestled' occurs 1 times.\n",
            "Word 'amidst' occurs 2 times.\n",
            "Word 'rolling' occurs 1 times.\n",
            "Word 'hills' occurs 1 times.\n",
            "Word 'and' occurs 21 times.\n",
            "Word 'whispering' occurs 1 times.\n",
            "Word 'trees' occurs 1 times.\n",
            "Word 'lived' occurs 1 times.\n",
            "Word 'a' occurs 9 times.\n",
            "Word 'young' occurs 1 times.\n",
            "Word 'woman' occurs 1 times.\n",
            "Word 'named' occurs 1 times.\n",
            "Word 'eliza' occurs 11 times.\n",
            "Word 'with' occurs 9 times.\n",
            "Word 'hair' occurs 1 times.\n",
            "Word 'like' occurs 1 times.\n",
            "Word 'spun' occurs 1 times.\n",
            "Word 'gold' occurs 2 times.\n",
            "Word 'eyes' occurs 1 times.\n",
            "Word 'as' occurs 8 times.\n",
            "Word 'blue' occurs 1 times.\n",
            "Word 'summer' occurs 1 times.\n",
            "Word 'sky' occurs 2 times.\n",
            "Word 'she' occurs 12 times.\n",
            "Word 'wandered' occurs 1 times.\n",
            "Word 'through' occurs 2 times.\n",
            "Word 'life' occurs 1 times.\n",
            "Word 'curious' occurs 1 times.\n",
            "Word 'heart' occurs 2 times.\n",
            "Word 'gentle' occurs 1 times.\n",
            "Word 'spirit' occurs 2 times.\n",
            "Word 'worked' occurs 1 times.\n",
            "Word 'at' occurs 2 times.\n",
            "Word 'town's' occurs 1 times.\n",
            "Word 'quaint' occurs 1 times.\n",
            "Word 'bookstore' occurs 1 times.\n",
            "Word 'where' occurs 1 times.\n",
            "Word 'scent' occurs 1 times.\n",
            "Word 'old' occurs 1 times.\n",
            "Word 'pages' occurs 3 times.\n",
            "Word 'mingled' occurs 1 times.\n",
            "Word 'promise' occurs 2 times.\n",
            "Word 'new' occurs 1 times.\n",
            "Word 'adventures' occurs 1 times.\n",
            "Word 'spent' occurs 1 times.\n",
            "Word 'her' occurs 19 times.\n",
            "Word 'days' occurs 1 times.\n",
            "Word 'lost' occurs 1 times.\n",
            "Word 'stories' occurs 1 times.\n",
            "Word 'enchanted' occurs 1 times.\n",
            "Word 'by' occurs 2 times.\n",
            "Word 'worlds' occurs 1 times.\n",
            "Word 'both' occurs 1 times.\n",
            "Word 'real' occurs 1 times.\n",
            "Word 'imagined' occurs 2 times.\n",
            "Word 'but' occurs 2 times.\n",
            "Word 'shelves' occurs 1 times.\n",
            "Word 'books' occurs 1 times.\n",
            "Word 'yearned' occurs 1 times.\n",
            "Word 'for' occurs 4 times.\n",
            "Word 'own' occurs 3 times.\n",
            "Word 'tale' occurs 3 times.\n",
            "Word 'to' occurs 7 times.\n",
            "Word 'unfold' occurs 1 times.\n",
            "Word 'one' occurs 3 times.\n",
            "Word 'fateful' occurs 1 times.\n",
            "Word 'evening' occurs 1 times.\n",
            "Word 'sun' occurs 1 times.\n",
            "Word 'dipped' occurs 1 times.\n",
            "Word 'below' occurs 1 times.\n",
            "Word 'horizon' occurs 2 times.\n",
            "Word 'painted' occurs 1 times.\n",
            "Word 'hues' occurs 1 times.\n",
            "Word 'pink' occurs 1 times.\n",
            "Word 'stumbled' occurs 1 times.\n",
            "Word 'upon' occurs 2 times.\n",
            "Word 'dusty' occurs 1 times.\n",
            "Word 'tome' occurs 2 times.\n",
            "Word 'hidden' occurs 1 times.\n",
            "Word 'farthest' occurs 1 times.\n",
            "Word 'corner' occurs 1 times.\n",
            "Word 'store' occurs 1 times.\n",
            "Word 'its' occurs 1 times.\n",
            "Word 'cover' occurs 1 times.\n",
            "Word 'worn' occurs 1 times.\n",
            "Word 'age' occurs 1 times.\n",
            "Word 'seemed' occurs 1 times.\n",
            "Word 'beckon' occurs 1 times.\n",
            "Word 'closer' occurs 1 times.\n",
            "Word 'trembling' occurs 1 times.\n",
            "Word 'hands' occurs 1 times.\n",
            "Word 'opened' occurs 1 times.\n",
            "Word 'book' occurs 1 times.\n",
            "Word 'found' occurs 1 times.\n",
            "Word 'herself' occurs 1 times.\n",
            "Word 'transported' occurs 1 times.\n",
            "Word 'realm' occurs 1 times.\n",
            "Word 'magic' occurs 1 times.\n",
            "Word 'mystery' occurs 1 times.\n",
            "Word 'words' occurs 1 times.\n",
            "Word 'danced' occurs 1 times.\n",
            "Word 'across' occurs 2 times.\n",
            "Word 'weaving' occurs 1 times.\n",
            "Word 'forgotten' occurs 1 times.\n",
            "Word 'kingdoms' occurs 1 times.\n",
            "Word 'brave' occurs 1 times.\n",
            "Word 'heroes' occurs 1 times.\n",
            "Word 'story' occurs 4 times.\n",
            "Word 'stood' occurs 1 times.\n",
            "Word 'figure' occurs 2 times.\n",
            "Word 'cloaked' occurs 1 times.\n",
            "Word 'shadow—a' occurs 1 times.\n",
            "Word 'knew' occurs 2 times.\n",
            "Word 'all' occurs 2 times.\n",
            "Word 'too' occurs 1 times.\n",
            "Word 'well' occurs 1 times.\n",
            "Word 'within' occurs 2 times.\n",
            "Word 'ancient' occurs 1 times.\n",
            "Word 'lay' occurs 1 times.\n",
            "Word 'ancestors' occurs 1 times.\n",
            "Word 'guardians' occurs 1 times.\n",
            "Word 'secret' occurs 1 times.\n",
            "Word 'long' occurs 1 times.\n",
            "Word 'buried' occurs 1 times.\n",
            "Word 'beneath' occurs 1 times.\n",
            "Word 'earth' occurs 1 times.\n",
            "Word 'each' occurs 2 times.\n",
            "Word 'turn' occurs 1 times.\n",
            "Word 'page' occurs 1 times.\n",
            "Word 'felt' occurs 1 times.\n",
            "Word 'pull' occurs 1 times.\n",
            "Word 'destiny' occurs 3 times.\n",
            "Word 'tugging' occurs 1 times.\n",
            "Word 'soul' occurs 1 times.\n",
            "Word 'determined' occurs 2 times.\n",
            "Word 'uncover' occurs 1 times.\n",
            "Word 'truth' occurs 1 times.\n",
            "Word 'set' occurs 1 times.\n",
            "Word 'out' occurs 2 times.\n",
            "Word 'on' occurs 2 times.\n",
            "Word 'journey' occurs 2 times.\n",
            "Word 'that' occurs 4 times.\n",
            "Word 'would' occurs 2 times.\n",
            "Word 'take' occurs 1 times.\n",
            "Word 'beyond' occurs 1 times.\n",
            "Word 'borders' occurs 1 times.\n",
            "Word 'into' occurs 2 times.\n",
            "Word 'unknown' occurs 1 times.\n",
            "Word 'along' occurs 1 times.\n",
            "Word 'way' occurs 1 times.\n",
            "Word 'encountered' occurs 1 times.\n",
            "Word 'friends' occurs 1 times.\n",
            "Word 'foes' occurs 1 times.\n",
            "Word 'alike' occurs 1 times.\n",
            "Word 'shaping' occurs 1 times.\n",
            "Word 'path' occurs 1 times.\n",
            "Word 'ways' occurs 1 times.\n",
            "Word 'could' occurs 1 times.\n",
            "Word 'never' occurs 1 times.\n",
            "Word 'have' occurs 1 times.\n",
            "Word 'dark' occurs 1 times.\n",
            "Word 'forests' occurs 1 times.\n",
            "Word 'vast' occurs 1 times.\n",
            "Word 'oceans' occurs 1 times.\n",
            "Word 'pressed' occurs 1 times.\n",
            "Word 'driven' occurs 1 times.\n",
            "Word 'discovery' occurs 1 times.\n",
            "Word 'hope' occurs 2 times.\n",
            "Word 'redemption' occurs 1 times.\n",
            "Word 'delved' occurs 1 times.\n",
            "Word 'deeper' occurs 1 times.\n",
            "Word 'mysteries' occurs 1 times.\n",
            "Word 'family's' occurs 1 times.\n",
            "Word 'past' occurs 1 times.\n",
            "Word 'unearthed' occurs 1 times.\n",
            "Word 'secrets' occurs 1 times.\n",
            "Word 'threatened' occurs 1 times.\n",
            "Word 'tear' occurs 1 times.\n",
            "Word 'world' occurs 2 times.\n",
            "Word 'apart' occurs 1 times.\n",
            "Word 'was' occurs 3 times.\n",
            "Word 'not' occurs 1 times.\n",
            "Word 'alone' occurs 1 times.\n",
            "Word 'quest' occurs 1 times.\n",
            "Word 'courage' occurs 2 times.\n",
            "Word 'guide' occurs 1 times.\n",
            "Word 'love' occurs 1 times.\n",
            "Word 'compass' occurs 1 times.\n",
            "Word 'faced' occurs 1 times.\n",
            "Word 'every' occurs 1 times.\n",
            "Word 'challenge' occurs 1 times.\n",
            "Word 'head-on' occurs 1 times.\n",
            "Word 'forge' occurs 1 times.\n",
            "Word 'reclaim' occurs 1 times.\n",
            "Word 'birthright' occurs 1 times.\n",
            "Word 'so' occurs 1 times.\n",
            "Word 'stars' occurs 1 times.\n",
            "Word 'shimmered' occurs 1 times.\n",
            "Word 'overhead' occurs 1 times.\n",
            "Word 'first' occurs 1 times.\n",
            "Word 'light' occurs 1 times.\n",
            "Word 'dawn' occurs 1 times.\n",
            "Word 'kissed' occurs 1 times.\n",
            "Word 'emerged' occurs 1 times.\n",
            "Word 'from' occurs 2 times.\n",
            "Word 'shadows' occurs 1 times.\n",
            "Word 'ablaze' occurs 1 times.\n",
            "Word 'newfound' occurs 1 times.\n",
            "Word 'purpose' occurs 1 times.\n",
            "Word 'had' occurs 1 times.\n",
            "Word 'learned' occurs 1 times.\n",
            "Word 'greatest' occurs 1 times.\n",
            "Word 'carried' occurs 1 times.\n",
            "Word 'heart—a' occurs 1 times.\n",
            "Word 'perseverance' occurs 1 times.\n",
            "Word 'enduring' occurs 1 times.\n",
            "Word 'power' occurs 1 times.\n",
            "Word 'gazed' occurs 1 times.\n",
            "Word 'spread' occurs 1 times.\n",
            "Word 'before' occurs 1 times.\n",
            "Word 'far' occurs 1 times.\n",
            "Word 'over' occurs 1 times.\n",
            "Word 'wherever' occurs 1 times.\n",
            "Word 'winds' occurs 1 times.\n",
            "Word 'may' occurs 1 times.\n",
            "Word 'lead' occurs 1 times.\n",
            "Word 'always' occurs 1 times.\n",
            "Word 'be' occurs 1 times.\n",
            "Word 'ready' occurs 1 times.\n",
            "Word 'chase' occurs 1 times.\n",
            "Word 'next' occurs 1 times.\n",
            "Word 'chapter' occurs 1 times.\n"
          ]
        }
      ]
    },
    {
      "cell_type": "markdown",
      "source": [
        "Finding the protagonist (Noun from POS Tagging)"
      ],
      "metadata": {
        "id": "7FJaOPKseVfr"
      }
    },
    {
      "cell_type": "code",
      "source": [
        "# Finding the protagonist (Noun from POS Tagging)\n",
        "protagonists = [token for token, pos in pos_tags if pos.startswith('NNP')]\n",
        "\n",
        "print(\"Original Tokens:\", tokens[:20])\n",
        "print(\"\\nPOS Tags:\", pos_tags[:20])\n",
        "print(\"\\nFiltered Tokens (Stopwords Removed):\", filtered_tokens[:20])\n",
        "print(\"\\nStemmed Tokens:\", stemmed_tokens[:20])\n",
        "print(\"\\nLemmatized Tokens:\", lemmatized_tokens[:20])\n",
        "print(\"\\nPotential Protagonists:\", protagonists)"
      ],
      "metadata": {
        "id": "kbhCxSoZCcVN",
        "outputId": "8533a514-cce8-4b5c-fa0e-7a2b4bb16732",
        "colab": {
          "base_uri": "https://localhost:8080/"
        }
      },
      "execution_count": 13,
      "outputs": [
        {
          "output_type": "stream",
          "name": "stdout",
          "text": [
            "Original Tokens: ['In', 'the', 'quiet', 'town', 'of', 'Willowbrook', ',', 'nestled', 'amidst', 'rolling', 'hills', 'and', 'whispering', 'trees', ',', 'lived', 'a', 'young', 'woman', 'named']\n",
            "\n",
            "POS Tags: [('In', 'IN'), ('the', 'DT'), ('quiet', 'JJ'), ('town', 'NN'), ('of', 'IN'), ('Willowbrook', 'NNP'), (',', ','), ('nestled', 'VBD'), ('amidst', 'RP'), ('rolling', 'VBG'), ('hills', 'NNS'), ('and', 'CC'), ('whispering', 'VBG'), ('trees', 'NNS'), (',', ','), ('lived', 'VBD'), ('a', 'DT'), ('young', 'JJ'), ('woman', 'NN'), ('named', 'VBN')]\n",
            "\n",
            "Filtered Tokens (Stopwords Removed): ['quiet', 'town', 'Willowbrook', ',', 'nestled', 'amidst', 'rolling', 'hills', 'whispering', 'trees', ',', 'lived', 'young', 'woman', 'named', 'Eliza', '.', 'hair', 'like', 'spun']\n",
            "\n",
            "Stemmed Tokens: ['quiet', 'town', 'willowbrook', ',', 'nestl', 'amidst', 'roll', 'hill', 'whisper', 'tree', ',', 'live', 'young', 'woman', 'name', 'eliza', '.', 'hair', 'like', 'spun']\n",
            "\n",
            "Lemmatized Tokens: ['quiet', 'town', 'Willowbrook', ',', 'nestle', 'amidst', 'roll', 'hill', 'whisper', 'tree', ',', 'live', 'young', 'woman', 'name', 'Eliza', '.', 'hair', 'like', 'spin']\n",
            "\n",
            "Potential Protagonists: ['Willowbrook', 'Eliza', 'Eliza', 'Eliza', 'Eliza', 'Eliza', 'Eliza', 'Eliza', 'Willowbrook', 'Eliza', 'Eliza', 'Eliza', 'Eliza']\n"
          ]
        }
      ]
    },
    {
      "cell_type": "markdown",
      "source": [
        "CONCLUSION :\n",
        "HERE THE PROTAGONISTS IS : ELISA"
      ],
      "metadata": {
        "id": "_4NEnT1ReFBC"
      }
    }
  ]
}