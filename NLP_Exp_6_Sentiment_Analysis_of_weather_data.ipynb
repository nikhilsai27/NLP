{
  "nbformat": 4,
  "nbformat_minor": 0,
  "metadata": {
    "colab": {
      "provenance": [],
      "authorship_tag": "ABX9TyPUyGjP8mHiJqKJ5wZ2oXEO",
      "include_colab_link": true
    },
    "kernelspec": {
      "name": "python3",
      "display_name": "Python 3"
    },
    "language_info": {
      "name": "python"
    }
  },
  "cells": [
    {
      "cell_type": "markdown",
      "metadata": {
        "id": "view-in-github",
        "colab_type": "text"
      },
      "source": [
        "<a href=\"https://colab.research.google.com/github/nikhilsai27/NLP/blob/main/NLP_Exp_6_Sentiment_Analysis_of_weather_data.ipynb\" target=\"_parent\"><img src=\"https://colab.research.google.com/assets/colab-badge.svg\" alt=\"Open In Colab\"/></a>"
      ]
    },
    {
      "cell_type": "code",
      "execution_count": 1,
      "metadata": {
        "id": "xXJMlrbjC82Z"
      },
      "outputs": [],
      "source": [
        "import nltk\n",
        "from nltk.sentiment.vader import SentimentIntensityAnalyzer"
      ]
    },
    {
      "cell_type": "code",
      "source": [
        "nltk.download('vader_lexicon')"
      ],
      "metadata": {
        "colab": {
          "base_uri": "https://localhost:8080/"
        },
        "id": "hTKefjPcDHHm",
        "outputId": "d9cb8c1d-52ce-4c4c-854c-db121e861f42"
      },
      "execution_count": 2,
      "outputs": [
        {
          "output_type": "stream",
          "name": "stderr",
          "text": [
            "[nltk_data] Downloading package vader_lexicon to /root/nltk_data...\n"
          ]
        },
        {
          "output_type": "execute_result",
          "data": {
            "text/plain": [
              "True"
            ]
          },
          "metadata": {},
          "execution_count": 2
        }
      ]
    },
    {
      "cell_type": "code",
      "source": [
        "def analyze_sentiment(text):\n",
        "    sid = SentimentIntensityAnalyzer()\n",
        "    sentiment_score = sid.polarity_scores(text)\n",
        "    return sentiment_score"
      ],
      "metadata": {
        "id": "9900A629DIkj"
      },
      "execution_count": 3,
      "outputs": []
    },
    {
      "cell_type": "code",
      "source": [
        "def main():\n",
        "\n",
        "    weather_data = [\n",
        "        \"The weather today is amazing!\",\n",
        "        \"It's raining heavily and it's so gloomy outside.\",\n",
        "        \"The sun is shining brightly, it's a beautiful day.\",\n",
        "        \"The weather forecast predicts thunderstorms for tomorrow.\",\n",
        "        \"It's freezing cold outside.\"\n",
        "    ]\n",
        "\n",
        "    for data in weather_data:\n",
        "        print(\"Weather Data:\", data)\n",
        "        sentiment_score = analyze_sentiment(data)\n",
        "        print(\"Sentiment Score:\", sentiment_score)\n",
        "        if sentiment_score['compound'] > 0:\n",
        "            print(\"Overall Sentiment: Positive\")\n",
        "        elif sentiment_score['compound'] < 0:\n",
        "            print(\"Overall Sentiment: Negative\")\n",
        "        else:\n",
        "            print(\"Overall Sentiment: Neutral\")\n",
        "        print()"
      ],
      "metadata": {
        "id": "e-XBU5i4DLaF"
      },
      "execution_count": 4,
      "outputs": []
    },
    {
      "cell_type": "code",
      "source": [
        "if __name__ == \"__main__\":\n",
        "    main()\n"
      ],
      "metadata": {
        "colab": {
          "base_uri": "https://localhost:8080/"
        },
        "id": "lvdDdy2YDN7-",
        "outputId": "df1f4201-8b3d-4c7e-a3a0-53b3b7122e18"
      },
      "execution_count": 5,
      "outputs": [
        {
          "output_type": "stream",
          "name": "stdout",
          "text": [
            "Weather Data: The weather today is amazing!\n",
            "Sentiment Score: {'neg': 0.0, 'neu': 0.494, 'pos': 0.506, 'compound': 0.6239}\n",
            "Overall Sentiment: Positive\n",
            "\n",
            "Weather Data: It's raining heavily and it's so gloomy outside.\n",
            "Sentiment Score: {'neg': 0.232, 'neu': 0.768, 'pos': 0.0, 'compound': -0.2769}\n",
            "Overall Sentiment: Negative\n",
            "\n",
            "Weather Data: The sun is shining brightly, it's a beautiful day.\n",
            "Sentiment Score: {'neg': 0.0, 'neu': 0.484, 'pos': 0.516, 'compound': 0.7506}\n",
            "Overall Sentiment: Positive\n",
            "\n",
            "Weather Data: The weather forecast predicts thunderstorms for tomorrow.\n",
            "Sentiment Score: {'neg': 0.0, 'neu': 1.0, 'pos': 0.0, 'compound': 0.0}\n",
            "Overall Sentiment: Neutral\n",
            "\n",
            "Weather Data: It's freezing cold outside.\n",
            "Sentiment Score: {'neg': 0.318, 'neu': 0.682, 'pos': 0.0, 'compound': -0.1027}\n",
            "Overall Sentiment: Negative\n",
            "\n"
          ]
        }
      ]
    }
  ]
}