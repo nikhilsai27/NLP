{
  "nbformat": 4,
  "nbformat_minor": 0,
  "metadata": {
    "colab": {
      "provenance": [],
      "authorship_tag": "ABX9TyPrp9nFTBvAAWUpkhpKMfl1",
      "include_colab_link": true
    },
    "kernelspec": {
      "name": "python3",
      "display_name": "Python 3"
    },
    "language_info": {
      "name": "python"
    }
  },
  "cells": [
    {
      "cell_type": "markdown",
      "metadata": {
        "id": "view-in-github",
        "colab_type": "text"
      },
      "source": [
        "<a href=\"https://colab.research.google.com/github/nikhilsai27/NLP/blob/main/NLP_Exp_4_PoS_Tagging_%26_Chunking.ipynb\" target=\"_parent\"><img src=\"https://colab.research.google.com/assets/colab-badge.svg\" alt=\"Open In Colab\"/></a>"
      ]
    },
    {
      "cell_type": "code",
      "source": [
        "!pip install nltk"
      ],
      "metadata": {
        "colab": {
          "base_uri": "https://localhost:8080/"
        },
        "id": "_UrZns9r_xkl",
        "outputId": "aa73e7f5-5ef5-4dec-d21d-8f54271b6342"
      },
      "execution_count": 5,
      "outputs": [
        {
          "output_type": "stream",
          "name": "stdout",
          "text": [
            "Requirement already satisfied: nltk in /usr/local/lib/python3.10/dist-packages (3.8.1)\n",
            "Requirement already satisfied: click in /usr/local/lib/python3.10/dist-packages (from nltk) (8.1.7)\n",
            "Requirement already satisfied: joblib in /usr/local/lib/python3.10/dist-packages (from nltk) (1.3.2)\n",
            "Requirement already satisfied: regex>=2021.8.3 in /usr/local/lib/python3.10/dist-packages (from nltk) (2023.12.25)\n",
            "Requirement already satisfied: tqdm in /usr/local/lib/python3.10/dist-packages (from nltk) (4.66.2)\n"
          ]
        }
      ]
    },
    {
      "cell_type": "code",
      "execution_count": 6,
      "metadata": {
        "id": "8iZv2RL3-fQL",
        "colab": {
          "base_uri": "https://localhost:8080/"
        },
        "outputId": "8ded7bb4-785a-4466-8a10-2dbe3cf936a1"
      },
      "outputs": [
        {
          "output_type": "stream",
          "name": "stderr",
          "text": [
            "[nltk_data] Downloading package averaged_perceptron_tagger to\n",
            "[nltk_data]     /root/nltk_data...\n",
            "[nltk_data]   Package averaged_perceptron_tagger is already up-to-\n",
            "[nltk_data]       date!\n"
          ]
        },
        {
          "output_type": "execute_result",
          "data": {
            "text/plain": [
              "True"
            ]
          },
          "metadata": {},
          "execution_count": 6
        }
      ],
      "source": [
        "import nltk\n",
        "nltk.download('averaged_perceptron_tagger')"
      ]
    },
    {
      "cell_type": "code",
      "source": [
        "from nltk import pos_tag\n",
        "from nltk import RegexpParser\n",
        "from nltk.tokenize import word_tokenize"
      ],
      "metadata": {
        "id": "bNPl5l1U_IQu"
      },
      "execution_count": 7,
      "outputs": []
    },
    {
      "cell_type": "code",
      "source": [
        "nltk.download('punkt')"
      ],
      "metadata": {
        "colab": {
          "base_uri": "https://localhost:8080/"
        },
        "id": "1Z13kMBh_5D1",
        "outputId": "6b80d2e5-f847-4763-cffe-614781ea905e"
      },
      "execution_count": 8,
      "outputs": [
        {
          "output_type": "stream",
          "name": "stderr",
          "text": [
            "[nltk_data] Downloading package punkt to /root/nltk_data...\n",
            "[nltk_data]   Unzipping tokenizers/punkt.zip.\n"
          ]
        },
        {
          "output_type": "execute_result",
          "data": {
            "text/plain": [
              "True"
            ]
          },
          "metadata": {},
          "execution_count": 8
        }
      ]
    },
    {
      "cell_type": "code",
      "source": [
        "text = \"\"\"\" I am Sriramoju Nikhil Sai, an Enthusiastic Computer Science and Engineering student with a focus on AI & ML,\n",
        "        currently pursuing a Bachelors degree. Maintaining a CGPA of 8.35,\n",
        "        I have honed my skills in Python, Machine, Learning, deep, learning, neural networks, and Data Structures.\n",
        "        I bring hands-on experience from a project where I utilized various machine learning algorithms to predict heart failure. \"\"\"\"\""
      ],
      "metadata": {
        "id": "txtj5YMR_dIv"
      },
      "execution_count": 9,
      "outputs": []
    },
    {
      "cell_type": "code",
      "source": [
        "words = word_tokenize(text)"
      ],
      "metadata": {
        "id": "pPNfbY8w_c6f"
      },
      "execution_count": 10,
      "outputs": []
    },
    {
      "source": [
        "print(\"Words: \", words)"
      ],
      "cell_type": "code",
      "metadata": {
        "colab": {
          "base_uri": "https://localhost:8080/"
        },
        "id": "FEtFEkJf_uqI",
        "outputId": "931e854f-bd95-4dba-9af6-d9dcb0c09f7d"
      },
      "execution_count": 11,
      "outputs": [
        {
          "output_type": "stream",
          "name": "stdout",
          "text": [
            "Words:  ['``', 'I', 'am', 'Sriramoju', 'Nikhil', 'Sai', ',', 'an', 'Enthusiastic', 'Computer', 'Science', 'and', 'Engineering', 'student', 'with', 'a', 'focus', 'on', 'AI', '&', 'ML', ',', 'currently', 'pursuing', 'a', 'Bachelors', 'degree', '.', 'Maintaining', 'a', 'CGPA', 'of', '8.35', ',', 'I', 'have', 'honed', 'my', 'skills', 'in', 'Python', ',', 'Machine', ',', 'Learning', ',', 'deep', ',', 'learning', ',', 'neural', 'networks', ',', 'and', 'Data', 'Structures', '.', 'I', 'bring', 'hands-on', 'experience', 'from', 'a', 'project', 'where', 'I', 'utilized', 'various', 'machine', 'learning', 'algorithms', 'to', 'predict', 'heart', 'failure', '.']\n"
          ]
        }
      ]
    },
    {
      "cell_type": "code",
      "source": [
        "ttag = pos_tag(words)"
      ],
      "metadata": {
        "id": "p3F-upNsAFXg"
      },
      "execution_count": 12,
      "outputs": []
    },
    {
      "cell_type": "code",
      "source": [
        "print(\"Text after PoS Tagging: \", ttag)"
      ],
      "metadata": {
        "colab": {
          "base_uri": "https://localhost:8080/"
        },
        "id": "7D4q5AuLAH_M",
        "outputId": "a9abb93c-221e-49c2-e04f-5a0cb98f23a1"
      },
      "execution_count": 13,
      "outputs": [
        {
          "output_type": "stream",
          "name": "stdout",
          "text": [
            "Text after PoS Tagging:  [('``', '``'), ('I', 'PRP'), ('am', 'VBP'), ('Sriramoju', 'NNP'), ('Nikhil', 'NNP'), ('Sai', 'NNP'), (',', ','), ('an', 'DT'), ('Enthusiastic', 'JJ'), ('Computer', 'NNP'), ('Science', 'NNP'), ('and', 'CC'), ('Engineering', 'NNP'), ('student', 'NN'), ('with', 'IN'), ('a', 'DT'), ('focus', 'NN'), ('on', 'IN'), ('AI', 'NNP'), ('&', 'CC'), ('ML', 'NNP'), (',', ','), ('currently', 'RB'), ('pursuing', 'VBG'), ('a', 'DT'), ('Bachelors', 'NNP'), ('degree', 'NN'), ('.', '.'), ('Maintaining', 'VBG'), ('a', 'DT'), ('CGPA', 'NNP'), ('of', 'IN'), ('8.35', 'CD'), (',', ','), ('I', 'PRP'), ('have', 'VBP'), ('honed', 'VBN'), ('my', 'PRP$'), ('skills', 'NNS'), ('in', 'IN'), ('Python', 'NNP'), (',', ','), ('Machine', 'NNP'), (',', ','), ('Learning', 'NNP'), (',', ','), ('deep', 'RB'), (',', ','), ('learning', 'VBG'), (',', ','), ('neural', 'JJ'), ('networks', 'NNS'), (',', ','), ('and', 'CC'), ('Data', 'NNP'), ('Structures', 'NNP'), ('.', '.'), ('I', 'PRP'), ('bring', 'VBP'), ('hands-on', 'JJ'), ('experience', 'NN'), ('from', 'IN'), ('a', 'DT'), ('project', 'NN'), ('where', 'WRB'), ('I', 'PRP'), ('utilized', 'VBD'), ('various', 'JJ'), ('machine', 'NN'), ('learning', 'VBG'), ('algorithms', 'NNS'), ('to', 'TO'), ('predict', 'VB'), ('heart', 'NN'), ('failure', 'NN'), ('.', '.')]\n"
          ]
        }
      ]
    },
    {
      "cell_type": "code",
      "source": [
        " grammar = r\"\"\"\n",
        "        NP: {<DT|JJ|NN.*>+}\n",
        "        PP: {<IN><NP>}\n",
        "        VP: {<VB.*><NP|PP|CLAUSE>+$}\n",
        "        CLAUSE: {<NP><VP>}\n",
        "    \"\"\""
      ],
      "metadata": {
        "id": "U7nZVskvALif"
      },
      "execution_count": 14,
      "outputs": []
    },
    {
      "cell_type": "code",
      "source": [
        "chunk_parser = RegexpParser(grammar)\n",
        "chunked_result = chunk_parser.parse(ttag)"
      ],
      "metadata": {
        "id": "W_kg6IN3ANnY"
      },
      "execution_count": 15,
      "outputs": []
    },
    {
      "cell_type": "code",
      "source": [
        "print(\"Chunking: \", chunked_result)"
      ],
      "metadata": {
        "colab": {
          "base_uri": "https://localhost:8080/"
        },
        "id": "z980wEo8AQDC",
        "outputId": "50da3b78-339f-46ba-869d-f52e52a809c2"
      },
      "execution_count": 16,
      "outputs": [
        {
          "output_type": "stream",
          "name": "stdout",
          "text": [
            "Chunking:  (S\n",
            "  ``/``\n",
            "  I/PRP\n",
            "  am/VBP\n",
            "  (NP Sriramoju/NNP Nikhil/NNP Sai/NNP)\n",
            "  ,/,\n",
            "  (NP an/DT Enthusiastic/JJ Computer/NNP Science/NNP)\n",
            "  and/CC\n",
            "  (NP Engineering/NNP student/NN)\n",
            "  (PP with/IN (NP a/DT focus/NN))\n",
            "  (PP on/IN (NP AI/NNP))\n",
            "  &/CC\n",
            "  (NP ML/NNP)\n",
            "  ,/,\n",
            "  currently/RB\n",
            "  pursuing/VBG\n",
            "  (NP a/DT Bachelors/NNP degree/NN)\n",
            "  ./.\n",
            "  Maintaining/VBG\n",
            "  (NP a/DT CGPA/NNP)\n",
            "  of/IN\n",
            "  8.35/CD\n",
            "  ,/,\n",
            "  I/PRP\n",
            "  have/VBP\n",
            "  honed/VBN\n",
            "  my/PRP$\n",
            "  (NP skills/NNS)\n",
            "  (PP in/IN (NP Python/NNP))\n",
            "  ,/,\n",
            "  (NP Machine/NNP)\n",
            "  ,/,\n",
            "  (NP Learning/NNP)\n",
            "  ,/,\n",
            "  deep/RB\n",
            "  ,/,\n",
            "  learning/VBG\n",
            "  ,/,\n",
            "  (NP neural/JJ networks/NNS)\n",
            "  ,/,\n",
            "  and/CC\n",
            "  (NP Data/NNP Structures/NNP)\n",
            "  ./.\n",
            "  I/PRP\n",
            "  bring/VBP\n",
            "  (NP hands-on/JJ experience/NN)\n",
            "  (PP from/IN (NP a/DT project/NN))\n",
            "  where/WRB\n",
            "  I/PRP\n",
            "  utilized/VBD\n",
            "  (NP various/JJ machine/NN)\n",
            "  learning/VBG\n",
            "  (NP algorithms/NNS)\n",
            "  to/TO\n",
            "  predict/VB\n",
            "  (NP heart/NN failure/NN)\n",
            "  ./.)\n"
          ]
        }
      ]
    }
  ]
}